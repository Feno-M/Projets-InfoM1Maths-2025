{
 "cells": [
  {
   "cell_type": "markdown",
   "id": "intro-cell",
   "metadata": {},
   "source": [
    "# Séance 4 : Traitement de données avec Python\n",
    "\n",
    "Nous allons étudier plusieurs structures de données en Python et apprendre à manipuler des fichiers CSV, ainsi qu’à visualiser des données à l’aide de la bibliothèque Matplotlib.\n",
    "\n",
    "## Plan du cours\n",
    "1. **Listes et tuples**\n",
    "2. **Dictionnaires**\n",
    "3. **Manipulation de données CSV**\n",
    "4. **Visualisation de données avec Matplotlib**\n",
    "\n",
    "À la fin, vous trouverez **10 projets mathématiques** à rendre sur GitHub pour mettre en pratique les connaissances acquises.\n"
   ]
  },
  {
   "cell_type": "markdown",
   "id": "listes-tuples-intro",
   "metadata": {},
   "source": [
    "## 1. Listes et Tuples\n",
    "\n",
    "Les **listes** et les **tuples** font partie des structures de données les plus fondamentales en Python.\n",
    "\n",
    "### 1.1 Listes\n",
    "Une liste est une structure de données **mutable** : on peut en changer la taille et le contenu après sa création.\n",
    "\n",
    "```python\n",
    "ma_liste = [10, 20, 30]\n",
    "print(ma_liste)\n",
    "ma_liste.append(40)  # Ajouter un élément à la fin\n",
    "print(ma_liste)\n",
    "```\n",
    "\n",
    "**Opérations courantes** :\n",
    "- `append(x)`: ajoute l'élément `x` à la fin de la liste.\n",
    "- `insert(i, x)`: insère l'élément `x` à la position `i`.\n",
    "- `pop(i)`: retire et retourne l'élément à la position `i` (par défaut le dernier si `i` n'est pas fourni).\n",
    "- `sort()`: trie la liste sur place.\n",
    "\n",
    "### 1.2 Tuples\n",
    "Un **tuple** ressemble beaucoup à une liste, mais il est **immuable** : on ne peut ni ajouter ni supprimer d'éléments après sa création.\n",
    "\n",
    "```python\n",
    "mon_tuple = (1, 2, 3)\n",
    "print(mon_tuple)\n",
    "```\n",
    "\n",
    "Les tuples sont souvent utilisés pour représenter des données \"fixes\" ou des groupes de variables qui ne doivent pas changer, comme les coordonnées d'un point `(x, y)`.\n"
   ]
  },
  {
   "cell_type": "code",
   "execution_count": 2,
   "id": "listes-tuples-code",
   "metadata": {},
   "outputs": [
    {
     "name": "stdout",
     "output_type": "stream",
     "text": [
      "Liste initiale: [10, 20, 30]\n",
      "Après append(40): [10, 20, 30, 40]\n",
      "L'élément à la position 2 de la liste est: 30\n",
      "Après insert(1, 15): [10, 15, 20, 30, 40]\n",
      "Élément retiré : 20\n",
      "Liste après pop(2): [10, 15, 30, 40]\n",
      "Liste triée: [10, 15, 30, 40]\n",
      "Un tuple de coordonnées : (5, 6)\n",
      "Erreur (normal car c'est un tuple immuable) : 'tuple' object does not support item assignment\n"
     ]
    }
   ],
   "source": [
    "# Exemple d'utilisation de listes et tuples\n",
    "ma_liste = [10, 20, 30]\n",
    "print(\"Liste initiale:\", ma_liste)\n",
    "\n",
    "# Ajout d'un élément\n",
    "ma_liste.append(40)\n",
    "print(\"Après append(40):\", ma_liste)\n",
    "\n",
    "# Affichage d'un élément\n",
    "element_deux = ma_liste[2]\n",
    "print(\"L'élément à la position 2 de la liste est:\", element_deux)\n",
    "\n",
    "# Insertion\n",
    "ma_liste.insert(1, 15)\n",
    "print(\"Après insert(1, 15):\", ma_liste)\n",
    "\n",
    "# Suppression de l'élément en position 2\n",
    "elem = ma_liste.pop(2)\n",
    "print(f\"Élément retiré : {elem}\")\n",
    "print(\"Liste après pop(2):\", ma_liste)\n",
    "\n",
    "# Tri de la liste\n",
    "ma_liste.sort()\n",
    "print(\"Liste triée:\", ma_liste)\n",
    "\n",
    "# Tuple\n",
    "coords = (5, 6)\n",
    "print(\"Un tuple de coordonnées :\", coords)\n",
    "try:\n",
    "    coords[0] = 10\n",
    "except TypeError as e:\n",
    "    print(\"Erreur (normal car c'est un tuple immuable) :\", e)"
   ]
  },
  {
   "cell_type": "markdown",
   "id": "exercise-1",
   "metadata": {},
   "source": [
    "### Exercice 1\n",
    "- Créez une liste `notes` contenant les notes d’un étudiant : `[12, 15, 9, 18]`.\n",
    "- Affichez la moyenne de ces notes.\n",
    "- Ajoutez la note `14` à la liste et affichez la nouvelle moyenne."
   ]
  },
  {
   "cell_type": "code",
   "execution_count": null,
   "id": "exercise-1-code",
   "metadata": {},
   "outputs": [],
   "source": [
    "# Saisissez votre code ici pour Exercice 1."
   ]
  },
  {
   "cell_type": "markdown",
   "id": "exercise-2",
   "metadata": {},
   "source": [
    "### Exercice 2\n",
    "- Créez un tuple `p = (4, 5)` représentant un point.\n",
    "- Tentez de modifier la première coordonnée (pour constater l'erreur).\n",
    "- Expliquez dans un commentaire la différence entre liste et tuple."
   ]
  },
  {
   "cell_type": "code",
   "execution_count": null,
   "id": "exercise-2-code",
   "metadata": {},
   "outputs": [],
   "source": [
    "# Saisissez votre code ici pour Exercice 2."
   ]
  },
  {
   "cell_type": "markdown",
   "id": "dict-intro",
   "metadata": {},
   "source": [
    "## 2. Dictionnaires\n",
    "\n",
    "Les **dictionnaires** en Python permettent de stocker des paires clé-valeur. Ils sont **mutables** et facilitent la recherche d'informations via des clés uniques.\n",
    "\n",
    "```python\n",
    "mon_dico = {\n",
    "    \"nom\": \"Alice\",\n",
    "    \"age\": 25,\n",
    "    \"ville\": \"Antananarivo\"\n",
    "}\n",
    "print(mon_dico[\"nom\"])  # Accès à la valeur associée à la clé \"nom\"\n",
    "mon_dico[\"profession\"] = \"Étudiante\"  # Ajout d'une nouvelle clé\n",
    "```\n",
    "\n",
    "**Méthodes utiles** :\n",
    "- `dico.keys()`: retourne la liste des clés.\n",
    "- `dico.values()`: retourne la liste des valeurs.\n",
    "- `dico.items()`: retourne la liste des (clé, valeur) sous forme de tuples.\n",
    "- `dico.get(\"clé\", valeur_par_défaut)`: obtient la valeur associée à la clé, ou une valeur par défaut si la clé est absente.\n",
    "\n",
    "Les dictionnaires sont particulièrement adaptés pour représenter des données structurées, par exemple des informations sur un étudiant, un produit, etc."
   ]
  },
  {
   "cell_type": "code",
   "execution_count": null,
   "id": "dict-code-example",
   "metadata": {},
   "outputs": [],
   "source": [
    "# Exemple d'utilisation d'un dictionnaire\n",
    "etudiant = {\n",
    "    \"nom\": \"Alice\",\n",
    "    \"age\": 25,\n",
    "    \"ville\": \"Antananarivo\"\n",
    "}\n",
    "\n",
    "print(\"Nom de l'étudiant :\", etudiant[\"nom\"])\n",
    "print(\"Ville :\", etudiant.get(\"ville\", \"Inconnue\"))\n",
    "\n",
    "# Ajout d'une nouvelle clé/valeur\n",
    "etudiant[\"notes\"] = [12, 15, 14]\n",
    "print(\"Dictionnaire mis à jour :\", etudiant)\n",
    "\n",
    "# Parcours d'un dictionnaire\n",
    "for cle, valeur in etudiant.items():\n",
    "    print(cle, \"->\", valeur)"
   ]
  },
  {
   "cell_type": "markdown",
   "id": "exercise-3",
   "metadata": {},
   "source": [
    "### Exercice 3\n",
    "- Créez un dictionnaire `contact` avec les clés : `\"nom\"`, `\"telephone\"`, `\"email\"`.\n",
    "- Affichez chacune de ces informations.\n",
    "- Ajoutez une clé `\"adresse\"` au dictionnaire."
   ]
  },
  {
   "cell_type": "code",
   "execution_count": null,
   "id": "exercise-3-code",
   "metadata": {},
   "outputs": [],
   "source": [
    "# Saisissez votre code ici pour Exercice 3."
   ]
  },
  {
   "cell_type": "markdown",
   "id": "exercise-4",
   "metadata": {},
   "source": [
    "### Exercice 4\n",
    "- Créez un dictionnaire `stock` pour un magasin (ex : `{ \"pommes\": 50, \"bananes\": 20 }`).\n",
    "- Écrivez un code qui demande à l'utilisateur un produit, puis qui affiche la quantité disponible ou un message si le produit n'existe pas dans le dictionnaire."
   ]
  },
  {
   "cell_type": "code",
   "execution_count": null,
   "id": "exercise-4-code",
   "metadata": {},
   "outputs": [],
   "source": [
    "# Saisissez votre code ici pour Exercice 4."
   ]
  },
  {
   "cell_type": "markdown",
   "id": "csv-intro",
   "metadata": {},
   "source": [
    "## 3. Les données dans un CSV\n",
    "\n",
    "Les fichiers CSV (Comma-Separated Values) sont très utilisés pour stocker et échanger des données tabulaires (simples). Python propose plusieurs méthodes pour lire et écrire dans des fichiers CSV.\n",
    "\n",
    "### 3.1 Lecture d'un CSV\n",
    "Avec le module `csv` :\n",
    "```python\n",
    "import csv\n",
    "\n",
    "with open('donnees.csv', 'r', newline='', encoding='utf-8') as f:\n",
    "    lecteur = csv.reader(f)\n",
    "    for ligne in lecteur:\n",
    "        print(ligne)\n",
    "```\n",
    "\n",
    "### 3.2 Écriture dans un CSV\n",
    "```python\n",
    "import csv\n",
    "\n",
    "with open('resultats.csv', 'w', newline='', encoding='utf-8') as f:\n",
    "    ecrivain = csv.writer(f)\n",
    "    ecrivain.writerow(['Nom', 'Score'])\n",
    "    ecrivain.writerow(['Alice', 85])\n",
    "    ecrivain.writerow(['Bob', 92])\n",
    "```\n",
    "\n",
    "Vous pouvez également utiliser un `DictReader` ou `DictWriter` pour manipuler directement chaque ligne sous forme de dictionnaire, ce qui est parfois plus pratique.\n"
   ]
  },
  {
   "cell_type": "code",
   "execution_count": null,
   "id": "csv-code-example",
   "metadata": {},
   "outputs": [],
   "source": [
    "# Exemple simple de lecture/écriture CSV dans un code exécuté localement\n",
    "import csv\n",
    "\n",
    "# Ecriture\n",
    "with open('exemple.csv', 'w', newline='', encoding='utf-8') as f:\n",
    "    writer = csv.writer(f)\n",
    "    writer.writerow([\"Nom\", \"Age\"])\n",
    "    writer.writerow([\"Alice\", 25])\n",
    "    writer.writerow([\"Bob\", 30])\n",
    "\n",
    "# Lecture\n",
    "with open('exemple.csv', 'r', newline='', encoding='utf-8') as f:\n",
    "    reader = csv.reader(f)\n",
    "    for row in reader:\n",
    "        print(row)"
   ]
  },
  {
   "cell_type": "markdown",
   "id": "exercise-5",
   "metadata": {},
   "source": [
    "### Exercice 5\n",
    "- Créez un fichier CSV nommé `produits.csv` contenant le nom d'un produit et son prix.\n",
    "- Écrivez un script Python qui lit ce fichier et affiche les produits avec leur prix.\n",
    "- Calculez la somme totale des prix."
   ]
  },
  {
   "cell_type": "code",
   "execution_count": null,
   "id": "exercise-5-code",
   "metadata": {},
   "outputs": [],
   "source": [
    "# Saisissez votre code ici pour Exercice 5."
   ]
  },
  {
   "cell_type": "markdown",
   "id": "exercise-6",
   "metadata": {},
   "source": [
    "### Exercice 6\n",
    "- Créez un fichier CSV `etudiants.csv` avec les colonnes `Nom`, `Age`, `Note`.\n",
    "- Écrivez un code qui lit ce fichier et calcule la moyenne des notes.\n",
    "- Affichez les étudiants qui ont la note la plus élevée."
   ]
  },
  {
   "cell_type": "code",
   "execution_count": null,
   "id": "exercise-6-code",
   "metadata": {},
   "outputs": [],
   "source": [
    "# Saisissez votre code ici pour Exercice 6."
   ]
  },
  {
   "cell_type": "markdown",
   "id": "matplotlib-intro",
   "metadata": {},
   "source": [
    "## 4. Visualisation de données avec Matplotlib\n",
    "\n",
    "[Matplotlib](https://matplotlib.org/) est l’une des bibliothèques de référence pour la visualisation de données en Python, permettant de tracer des graphiques en 2D (et basiquement en 3D).\n",
    "\n",
    "### 4.1 Installation\n",
    "- Généralement installée par défaut dans la plupart des distributions Python.\n",
    "- Sinon : `pip install matplotlib`\n",
    "\n",
    "### 4.2 Exemple de tracé simple\n",
    "```python\n",
    "import matplotlib.pyplot as plt\n",
    "\n",
    "x = [1, 2, 3, 4]\n",
    "y = [2, 4, 1, 8]\n",
    "\n",
    "plt.plot(x, y)\n",
    "plt.title(\"Exemple simple\")\n",
    "plt.xlabel(\"Axe X\")\n",
    "plt.ylabel(\"Axe Y\")\n",
    "plt.show()\n",
    "```\n",
    "\n",
    "### 4.3 Diagramme en barres\n",
    "```python\n",
    "import matplotlib.pyplot as plt\n",
    "\n",
    "fruits = ['Pomme', 'Banane', 'Orange']\n",
    "quantites = [10, 15, 8]\n",
    "\n",
    "plt.bar(fruits, quantites)\n",
    "plt.title(\"Quantité de fruits\")\n",
    "plt.show()\n",
    "```\n",
    "\n",
    "Matplotlib propose beaucoup d’autres types de graphiques (histogrammes, nuages de points, camemberts, etc.), ainsi que des personnalisations avancées.\n"
   ]
  },
  {
   "cell_type": "code",
   "execution_count": null,
   "id": "matplotlib-code-example",
   "metadata": {},
   "outputs": [],
   "source": [
    "# Exemple complet avec Matplotlib\n",
    "import matplotlib.pyplot as plt\n",
    "\n",
    "x = [i for i in range(11)]  # 0 à 10\n",
    "y = [i**2 for i in x]      # y = x^2\n",
    "\n",
    "plt.plot(x, y)\n",
    "plt.title(\"Représentation de y = x^2\")\n",
    "plt.xlabel(\"x\")\n",
    "plt.ylabel(\"x^2\")\n",
    "plt.show()"
   ]
  },
  {
   "cell_type": "markdown",
   "id": "exercise-7",
   "metadata": {},
   "source": [
    "### Exercice 7\n",
    "- Générez des points pour la fonction `f(x) = 2x + 1` (sur un intervalle de 0 à 10).\n",
    "- Tracez la courbe correspondante.\n",
    "- Ajoutez un titre et des légendes d’axes."
   ]
  },
  {
   "cell_type": "code",
   "execution_count": null,
   "id": "exercise-7-code",
   "metadata": {},
   "outputs": [],
   "source": [
    "# Saisissez votre code ici pour Exercice 7."
   ]
  },
  {
   "cell_type": "markdown",
   "id": "exercise-8",
   "metadata": {},
   "source": [
    "### Exercice 8\n",
    "- À partir d’une liste de notes `[12, 14, 9, 16, 18, 10, 14, 15]`, réalisez un histogramme (ou diagramme en barres) montrant la distribution de ces notes.\n",
    "- Personnalisez les couleurs ou le style."
   ]
  },
  {
   "cell_type": "code",
   "execution_count": null,
   "id": "exercise-8-code",
   "metadata": {},
   "outputs": [],
   "source": [
    "# Saisissez votre code ici pour Exercice 8."
   ]
  },
  {
   "cell_type": "markdown",
   "id": "pandas-intro",
   "metadata": {},
   "source": [
    "## Introduction à Pandas\n",
    "\n",
    "[Pandas](https://pandas.pydata.org/) est une bibliothèque Python très utilisée pour l’analyse et la manipulation de données.\n",
    "\n",
    "### Installation\n",
    "- Pour l’installer : `pip install pandas`\n",
    "\n",
    "### Les DataFrames\n",
    "La structure de base de Pandas est le **DataFrame**, un tableau étiqueté (avec des noms de colonnes et des index pour les lignes) qui facilite l’analyse et la transformation de données.\n",
    "\n",
    "Exemple d’utilisation :\n",
    "```python\n",
    "import pandas as pd\n",
    "\n",
    "data = {\n",
    "    'Nom': ['Alice', 'Bob', 'Charlie'],\n",
    "    'Age': [25, 30, 22],\n",
    "    'Note': [15.5, 17.0, 10.5]\n",
    "}\n",
    "df = pd.DataFrame(data)\n",
    "print(df)\n",
    "#   Nom      Age    Note\n",
    "# 0  Alice     25   15.5\n",
    "# 1    Bob     30   17.0\n",
    "# 2 Charlie    22   10.5\n",
    "\n",
    "# Lecture depuis un CSV\n",
    "# df_csv = pd.read_csv('fichier.csv')\n",
    "# print(df_csv.head())\n",
    "```\n",
    "\n",
    "Avec Pandas, vous pouvez facilement filtrer, trier, grouper des données, effectuer des opérations statistiques, etc."
   ]
  },
  {
   "cell_type": "markdown",
   "id": "exercise-9",
   "metadata": {},
   "source": [
    "### Exercice 9\n",
    "- Créez un DataFrame à partir d’un dictionnaire qui contient au moins 3 colonnes.\n",
    "- Affichez le résumé statistique (moyenne, écart-type...) en utilisant `df.describe()`.\n",
    "- Filtrez les lignes selon une condition (par exemple, `Age > 25`)."
   ]
  },
  {
   "cell_type": "code",
   "execution_count": null,
   "id": "exercise-9-code",
   "metadata": {},
   "outputs": [],
   "source": [
    "# Saisissez votre code ici pour Exercice 9."
   ]
  },
  {
   "cell_type": "markdown",
   "id": "exercise-10",
   "metadata": {},
   "source": [
    "### Exercice 10\n",
    "- Créez deux DataFrames ayant une colonne en commun (par ex. `ID`) mais des informations différentes.\n",
    "- Fusionnez-les (avec `pd.merge`) pour combiner leurs données.\n",
    "- Affichez le résultat final."
   ]
  },
  {
   "cell_type": "code",
   "execution_count": null,
   "id": "exercise-10-code",
   "metadata": {},
   "outputs": [],
   "source": [
    "# Saisissez votre code ici pour Exercice 10."
   ]
  },
  {
   "cell_type": "markdown",
   "id": "exercise-11",
   "metadata": {},
   "source": [
    "### Exercice 11\n",
    "- Créez un DataFrame contenant des valeurs manquantes (NaN).\n",
    "- Identifiez les lignes manquantes.\n",
    "- Supprimez ou remplacez ces valeurs (par exemple, par la moyenne d’une colonne).\n",
    "- Affichez le DataFrame avant et après le nettoyage."
   ]
  },
  {
   "cell_type": "code",
   "execution_count": null,
   "id": "exercise-11-code",
   "metadata": {},
   "outputs": [],
   "source": [
    "# Saisissez votre code ici pour Exercice 11."
   ]
  },
  {
   "cell_type": "markdown",
   "id": "ten-projects",
   "metadata": {},
   "source": [
    "# 10 Projets Mathématiques à Rendre sur GitHub\n",
    "\n",
    "1. **Analyse de polynômes** :\n",
    "   - Écrivez un programme qui prend un polynôme (ex: `2x^2 + 3x - 5`) et propose :\n",
    "     - Son tracé avec Matplotlib.\n",
    "     - Ses racines (discriminant, éventuellement méthode numérique si nécessaire).\n",
    "\n",
    "2. **Statistiques sur un ensemble de données** :\n",
    "   - Récupérez un fichier CSV contenant des données (par exemple, poids et taille d'un échantillon de personnes).\n",
    "   - Calculez la moyenne, la variance et la médiane.\n",
    "   - Affichez graphiquement la distribution.\n",
    "\n",
    "3. **Étude d'une suite numérique** :\n",
    "   - Implémentez une suite récursive (ex: suite de Fibonacci, suite logistique, etc.).\n",
    "   - Affichez les 20 premiers termes.\n",
    "   - Proposez une visualisation et analysez le comportement asymptotique.\n",
    "\n",
    "4. **Approximation de Pi** :\n",
    "   - Utilisez la méthode de Monte Carlo pour approximer π.\n",
    "   - Générez des points aléatoires dans un carré et comptez ceux qui tombent dans le cercle inscrit.\n",
    "   - Tracez le résultat pour montrer l’évolution de l’estimation.\n",
    "\n",
    "5. **Système linéaire** :\n",
    "   - Codez la résolution d’un système linéaire (matrices) à partir d’un fichier CSV décrivant la matrice et le vecteur de second membre.\n",
    "   - Comparez les solutions obtenues via différentes méthodes (Gauss, numpy.linalg, etc.).\n",
    "\n",
    "6. **Interpolation polynomiale** :\n",
    "   - Donnez quelques points (x, y) dans un CSV.\n",
    "   - Trouvez le polynôme d’interpolation.\n",
    "   - Affichez à la fois les points et la courbe du polynôme interpolé.\n",
    "\n",
    "7. **Étude d'une fonction exponentielle** :\n",
    "   - Définissez une fonction `f(x) = a * e^{bx}`.\n",
    "   - Utilisez Matplotlib pour tracer la courbe, puis un script pour calculer des approximations.\n",
    "   - Analysez la croissance pour différentes valeurs de `a` et `b`.\n",
    "\n",
    "8. **Calcul d’intégrales (méthode numérique)** :\n",
    "   - Implémentez la méthode des trapèzes ou de Simpson pour calculer l'intégrale d'une fonction donnée.\n",
    "   - Comparez le résultat avec la valeur \"exacte\" (si connue) et tracez l’évolution de l’erreur en fonction du pas.\n",
    "\n",
    "9. **Visualisation de probabilités** :\n",
    "   - Simulez des lancers de dés ou des tirages aléatoires.\n",
    "   - Affichez la distribution de probabilités sous forme d’histogramme.\n",
    "   - Comparez avec la distribution théorique.\n",
    "\n",
    "10. **Transformée de Fourier discrète** :\n",
    "   - Implémentez une fonction qui calcule la transformée de Fourier discrète d’une liste de données.\n",
    "   - Testez avec une fonction sinusoïdale et affichez le spectre.\n",
    "\n",
    "Vous devez :\n",
    "- Placer le code (et éventuellement vos données CSV) dans un dépôt GitHub.\n",
    "- Inclure un `README.md` expliquant votre projet et comment l’exécuter.\n",
    "- Faire un usage approprié des structures de données (listes, tuples, dictionnaires) et proposer des visualisations pertinentes avec Matplotlib.\n"
   ]
  },
  {
   "cell_type": "markdown",
   "id": "references-biblio",
   "metadata": {},
   "source": [
    "## Références bibliographiques\n",
    "\n",
    "- [Documentation officielle de Python](https://docs.python.org/3/)\n",
    "- [MIT OpenCourseWare - Python](https://ocw.mit.edu/courses/search/?q=python)\n",
    "- [Matplotlib Documentation](https://matplotlib.org/)\n",
    "- [Pandas Documentation](https://pandas.pydata.org/)\n",
    "- **Wes McKinney**, *Python for Data Analysis*, O’Reilly, 2017.\n",
    "- **Jake VanderPlas**, *Python Data Science Handbook*, O’Reilly, 2016.\n",
    "- **Allen B. Downey**, *Think Python*, O’Reilly, 2e éd., 2015.\n",
    "\n"
   ]
  },
  {
   "cell_type": "code",
   "execution_count": null,
   "id": "e26ac7b7-13d2-4004-9094-aa0c03a9f13f",
   "metadata": {},
   "outputs": [],
   "source": []
  }
 ],
 "metadata": {
  "kernelspec": {
   "display_name": "Python 3 (ipykernel)",
   "language": "python",
   "name": "python3"
  },
  "language_info": {
   "codemirror_mode": {
    "name": "ipython",
    "version": 3
   },
   "file_extension": ".py",
   "mimetype": "text/x-python",
   "name": "python",
   "nbconvert_exporter": "python",
   "pygments_lexer": "ipython3",
   "version": "3.13.2"
  },
  "title": "Séance 4 - Traitement de données avec Python"
 },
 "nbformat": 4,
 "nbformat_minor": 5
}
